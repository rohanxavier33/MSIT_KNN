{
 "cells": [
  {
   "cell_type": "code",
   "execution_count": 14,
   "metadata": {},
   "outputs": [],
   "source": [
    "import math\n",
    "import pickle\n",
    "import gzip\n",
    "import numpy as np\n",
    "import matplotlib.pylab as plt\n",
    "%matplotlib inline\n",
    "\n",
    "from math import exp\n",
    "import kagglehub\n",
    "import numpy as np\n",
    "import pandas as pd\n",
    "import sklearn\n",
    "from sklearn.linear_model import LogisticRegression\n",
    "from sklearn.tree import DecisionTreeClassifier\n",
    "from sklearn.datasets import load_breast_cancer\n",
    "from sklearn.model_selection import train_test_split\n",
    "import matplotlib.pyplot as plt\n",
    "%matplotlib inline\n",
    "\n",
    "from sklearn.metrics import roc_auc_score\n",
    "from sklearn.metrics import roc_curve\n",
    "from sklearn.metrics import accuracy_score"
   ]
  },
  {
   "cell_type": "code",
   "execution_count": 15,
   "metadata": {},
   "outputs": [],
   "source": [
    "# This cell sets up the MNIST dataset \n",
    "\n",
    "\n",
    "# Download latest version\n",
    "path = kagglehub.dataset_download(\"aadeshkoirala/mnist-784\")\n",
    "\n",
    "class MNIST_import:\n",
    "    \"\"\"\n",
    "    sets up MNIST dataset from OpenML \n",
    "    \"\"\"\n",
    "    def __init__(self):\n",
    "        \n",
    "        df = pd.read_csv(f\"{path}/mnist_784.csv\")\n",
    "        \n",
    "        # Create arrays for the features and the response variable\n",
    "        # store for use later \n",
    "        y = df['class'].values\n",
    "        X = df.drop('class', axis=1).values\n",
    "         \n",
    "        # Convert the labels to numeric labels\n",
    "        y = np.array(pd.to_numeric(y))\n",
    "        \n",
    "        # create training and validation sets \n",
    "        self.train_x, self.train_y = X[:5000,:], y[:5000]\n",
    "        self.val_x, self.val_y = X[5000:6000,:], y[5000:6000]\n",
    "        \n",
    "data = MNIST_import()"
   ]
  },
  {
   "cell_type": "code",
   "execution_count": 16,
   "metadata": {},
   "outputs": [],
   "source": [
    "def view_digit(x, label=None):\n",
    "    fig = plt.figure(figsize=(3,3))\n",
    "    plt.imshow(x.reshape(28,28), cmap='gray');\n",
    "    plt.xticks([]); plt.yticks([]);\n",
    "    if label: plt.xlabel(\"true: {}\".format(label), fontsize=16)"
   ]
  },
  {
   "cell_type": "code",
   "execution_count": 17,
   "metadata": {},
   "outputs": [
    {
     "data": {
      "image/png": "[encoded data removed]",
      "text/plain": [
       "<Figure size 300x300 with 1 Axes>"
      ]
     },
     "metadata": {},
     "output_type": "display_data"
    }
   ],
   "source": [
    "# Select the first image and its label from the training set\n",
    "x = data.train_x[9]\n",
    "label = data.train_y[9]\n",
    "\n",
    "view_digit(x, label)\n",
    "plt.show()  # Show the plot"
   ]
  },
  {
   "cell_type": "markdown",
   "metadata": {},
   "source": [
    "We won't use Scikit-Learn's KNeighborsClassifier in this problem. We're implementing this ourselves."
   ]
  },
  {
   "cell_type": "code",
   "execution_count": 18,
   "metadata": {},
   "outputs": [],
   "source": [
    "class KNN:\n",
    "    \"\"\"\n",
    "    Class to store data for regression problems \n",
    "    \"\"\"\n",
    "    def __init__(self, x_train, y_train, K=5):\n",
    "        \"\"\"\n",
    "        Creates a kNN instance\n",
    "\n",
    "        :param x_train: numpy array with shape (n_rows,1)- e.g. [[1,2],[3,4]]\n",
    "        :param y_train: numpy array with shape (n_rows,)- e.g. [1,-1]\n",
    "        :param K: The number of nearest points to consider in classification\n",
    "        \"\"\"\n",
    "        \n",
    "        # Import and build the BallTree on training features \n",
    "        from sklearn.neighbors import BallTree\n",
    "        self.balltree = BallTree(x_train)\n",
    "        \n",
    "        # Cache training labels and parameter K \n",
    "        self.y_train = y_train\n",
    "        self.K = K \n",
    "        \n",
    "        \n",
    "    def majority(self, neighbor_indices, neighbor_distances=None):\n",
    "        \"\"\"\n",
    "        Given indices of nearest neighbors in training set, return the majority label. \n",
    "        Break ties by considering 1 fewer neighbor until a clear winner is found. \n",
    "\n",
    "        :param neighbor_indices: The indices of the K nearest neighbors in self.X_train \n",
    "        :param neighbor_distances: Corresponding distances from query point to K nearest neighbors. \n",
    "        \"\"\"\n",
    "        \n",
    "        \n",
    "        while self.K > 0:\n",
    "            # Get the labels of the K nearest neighbors\n",
    "            labels = self.y_train[neighbor_indices[:self.K]]\n",
    "            \n",
    "            # Count the occurrences of each label\n",
    "            label_counts = {}\n",
    "            for label in labels:\n",
    "                if label in label_counts:\n",
    "                    label_counts[label] += 1\n",
    "                else:\n",
    "                    label_counts[label] = 1\n",
    "                \n",
    "            \n",
    "            # Find the label with the maximum count\n",
    "            max_count = max(label_counts.values())\n",
    "            candidates = [label for label, count in label_counts.items() if count == max_count]\n",
    "            \n",
    "            # If there's a clear majority, return it\n",
    "            if len(candidates) == 1:\n",
    "                return candidates[0]\n",
    "            \n",
    "            # Otherwise, reduce K by 1 and try again\n",
    "            self.K -= 1\n",
    "        \n",
    "        # If K reaches 0, return the first label (though this should not happen with K >= 1)\n",
    "        return labels[0]\n",
    "            \n",
    "        \n",
    "    def classify(self, x):\n",
    "        \"\"\"\n",
    "        Given a query point, return the predicted label \n",
    "        \n",
    "        :param x: a query point stored as an ndarray  \n",
    "        \"\"\"\n",
    "        \n",
    "        # Find the K nearest neighbors\n",
    "        distances, indices = self.balltree.query(x.reshape(1, -1), k=self.K)\n",
    "        \n",
    "        # Get the majority label\n",
    "        return self.majority(indices[0], distances[0])\n",
    "        \n",
    "    def predict(self, X):\n",
    "        \"\"\"\n",
    "        Given an ndarray of query points, return yhat, an ndarray of predictions \n",
    "\n",
    "        :param X: an (m x p) dimension ndarray of points to predict labels for \n",
    "        \"\"\"\n",
    "        \n",
    "        # Initialize an empty array to store predictions\n",
    "        predictions = np.zeros(X.shape[0], dtype=int)\n",
    "        \n",
    "        # Iterate over each query point and classify it\n",
    "        for i, x in enumerate(X):\n",
    "            predictions[i] = self.classify(x)\n",
    "        \n",
    "        return predictions"
   ]
  },
  {
   "cell_type": "code",
   "execution_count": 19,
   "metadata": {},
   "outputs": [],
   "source": [
    "# Sample tests for KNN class\n",
    "\n",
    "import pytest\n",
    "# set-up\n",
    "X_train = np.array([[1,6], [6,4], [2,5], [1,3], [2,2], [3,1], [1,5], [2,3], [4,6], [3,5], [6,5], [0,4]])\n",
    "y_train = np.array([+1, -1, +1, +1, -1, +1, +1, -1, +1, -1, +1, -1])\n",
    "x = np.array([0,5])\n",
    "\n",
    "# test k=2,\n",
    "k2nn = KNN(X_train, y_train, K=2)\n",
    "assert -1 == pytest.approx(k2nn.classify(x)), \"KNN class doesn't perform as expected with two neighbors\"\n",
    "\n",
    "\n",
    "# test k=3\n",
    "k3nn = KNN(X_train, y_train, K=3) \n",
    "assert 1 == pytest.approx(k3nn.classify(x)), \"KNN class doesn't perform as expected with three neighbors\"\n",
    "\n",
    "\n",
    "# test 3NN Predict \n",
    "X = np.array([[2,5], [5,1]])\n",
    "k3p = KNN(X_train, y_train, K=3) \n",
    "yhat = k3p.predict(X)\n",
    "\n",
    "# correct labels for the above two points(X).\n",
    "ytrue = [1, -1]\n",
    "\n",
    "for yh, yt in zip(yhat, ytrue):\n",
    "    assert yh == yt, \"Look at the predict function in the KNN class.\""
   ]
  },
  {
   "cell_type": "markdown",
   "metadata": {},
   "source": [
    "use KNN class to perform KNN on the validation data with K = 3"
   ]
  },
  {
   "cell_type": "code",
   "execution_count": 20,
   "metadata": {},
   "outputs": [],
   "source": [
    "# use your KNN class to perform KNN on the validation data with K = 3\n",
    "knn = KNN(data.train_x, data.train_y, K=3)\n",
    "val_yhat = knn.predict(data.val_x)\n"
   ]
  },
  {
   "cell_type": "code",
   "execution_count": 21,
   "metadata": {},
   "outputs": [
    {
     "data": {
      "text/plain": [
       "array([[112,   0,   0,   0,   0,   0,   1,   0,   0,   0],\n",
       "       [  0, 106,   0,   0,   0,   0,   0,   1,   0,   1],\n",
       "       [  1,   2,  87,   2,   0,   0,   0,   1,   0,   0],\n",
       "       [  1,   0,   2, 109,   0,   3,   0,   0,   0,   0],\n",
       "       [  0,   2,   0,   0,  82,   0,   0,   0,   0,   4],\n",
       "       [  0,   0,   0,   3,   2,  73,   2,   0,   0,   0],\n",
       "       [  0,   0,   0,   0,   0,   1, 104,   0,   2,   0],\n",
       "       [  0,   2,   0,   1,   0,   1,   0,  89,   0,   8],\n",
       "       [  1,   1,   0,   2,   0,   0,   2,   2,  80,   1],\n",
       "       [  1,   0,   0,   1,   1,   0,   0,   2,   0, 101]])"
      ]
     },
     "execution_count": 21,
     "metadata": {},
     "output_type": "execute_result"
    }
   ],
   "source": [
    "# create a confusion matrix \n",
    "sklearn.metrics.confusion_matrix(data.val_y, val_yhat, labels=None, sample_weight=None, normalize=None)"
   ]
  },
  {
   "cell_type": "code",
   "execution_count": 25,
   "metadata": {},
   "outputs": [
    {
     "name": "stdout",
     "output_type": "stream",
     "text": [
      "K = 1; Accuracy: 0.942\n",
      "K = 2; Accuracy: 0.942\n",
      "K = 3; Accuracy: 0.943\n",
      "K = 4; Accuracy: 0.943\n",
      "K = 5; Accuracy: 0.944\n",
      "K = 6; Accuracy: 0.944\n",
      "K = 7; Accuracy: 0.944\n",
      "K = 8; Accuracy: 0.944\n",
      "K = 9; Accuracy: 0.944\n",
      "K = 10; Accuracy: 0.944\n",
      "K = 11; Accuracy: 0.936\n",
      "K = 12; Accuracy: 0.936\n",
      "K = 13; Accuracy: 0.936\n",
      "K = 14; Accuracy: 0.935\n",
      "K = 15; Accuracy: 0.935\n",
      "K = 16; Accuracy: 0.935\n",
      "K = 17; Accuracy: 0.935\n",
      "K = 18; Accuracy: 0.933\n",
      "K = 19; Accuracy: 0.933\n",
      "K = 20; Accuracy: 0.933\n",
      "K = 21; Accuracy: 0.925\n",
      "K = 22; Accuracy: 0.925\n",
      "K = 23; Accuracy: 0.925\n",
      "K = 24; Accuracy: 0.925\n",
      "K = 25; Accuracy: 0.911\n",
      "K = 26; Accuracy: 0.91\n",
      "K = 27; Accuracy: 0.91\n",
      "K = 28; Accuracy: 0.91\n",
      "K = 29; Accuracy: 0.909\n",
      "K = 30; Accuracy: 0.909\n"
     ]
    },
    {
     "data": {
      "image/png": "[encoded data removed]",
      "text/plain": [
       "<Figure size 1200x700 with 1 Axes>"
      ]
     },
     "metadata": {},
     "output_type": "display_data"
    }
   ],
   "source": [
    "# Accuracy plot\n",
    "acc = []\n",
    "wacc = []\n",
    "allks = range(1,31)\n",
    "for k in allks:\n",
    "    # train the k-Nearest Neighbor classifier with the current value of `k`\n",
    "    model = KNN(data.train_x, data.train_y, K=k)\n",
    "    # evaluate the model and update the accuracies list\n",
    "    val_yhat = model.predict(data.val_x)\n",
    "    accuracy = accuracy_score(data.val_y, val_yhat)\n",
    "    acc.append(accuracy)\n",
    "    print(\"K = \"+str(k)+\"; Accuracy: \"+str(accuracy))\n",
    "\n",
    "\n",
    "# create plot   \n",
    "fig, ax = plt.subplots(nrows=1,ncols=1,figsize=(12,7))\n",
    "ax.plot(allks, acc, marker=\"o\", color=\"steelblue\", lw=3, label=\"unweighted\")\n",
    "ax.set_xlabel(\"number neighbors\", fontsize=16)\n",
    "ax.set_ylabel(\"accuracy\", fontsize=16)\n",
    "plt.xticks(range(1,31,2))\n",
    "ax.grid(alpha=0.25)"
   ]
  }
 ],
 "metadata": {
  "kernelspec": {
   "display_name": "Python 3",
   "language": "python",
   "name": "python3"
  },
  "language_info": {
   "codemirror_mode": {
    "name": "ipython",
    "version": 3
   },
   "file_extension": ".py",
   "mimetype": "text/x-python",
   "name": "python",
   "nbconvert_exporter": "python",
   "pygments_lexer": "ipython3",
   "version": "3.9.6"
  }
 },
 "nbformat": 4,
 "nbformat_minor": 2
}
